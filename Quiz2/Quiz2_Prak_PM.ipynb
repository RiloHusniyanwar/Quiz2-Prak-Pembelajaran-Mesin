{
 "cells": [
  {
   "cell_type": "code",
   "execution_count": 18,
   "id": "e68fe13c",
   "metadata": {},
   "outputs": [],
   "source": [
    "import pandas as pd\n",
    "import numpy as np \n",
    "import pandas as pd \n",
    "import matplotlib.pyplot as plt\n",
    "import seaborn as sns"
   ]
  },
  {
   "cell_type": "code",
   "execution_count": 19,
   "id": "d9a1ed88",
   "metadata": {},
   "outputs": [],
   "source": [
    "df = pd.read_csv(\"Genshin_Impact_All_Character_Stat.csv\")"
   ]
  },
  {
   "cell_type": "code",
   "execution_count": 20,
   "id": "e3b13533",
   "metadata": {},
   "outputs": [
    {
     "data": {
      "text/html": [
       "<div>\n",
       "<style scoped>\n",
       "    .dataframe tbody tr th:only-of-type {\n",
       "        vertical-align: middle;\n",
       "    }\n",
       "\n",
       "    .dataframe tbody tr th {\n",
       "        vertical-align: top;\n",
       "    }\n",
       "\n",
       "    .dataframe thead th {\n",
       "        text-align: right;\n",
       "    }\n",
       "</style>\n",
       "<table border=\"1\" class=\"dataframe\">\n",
       "  <thead>\n",
       "    <tr style=\"text-align: right;\">\n",
       "      <th></th>\n",
       "      <th>Character</th>\n",
       "      <th>Lv</th>\n",
       "      <th>Rarity</th>\n",
       "      <th>Element</th>\n",
       "      <th>Weapon</th>\n",
       "      <th>Main role</th>\n",
       "      <th>Ascension</th>\n",
       "      <th>Base HP</th>\n",
       "      <th>Base ATK</th>\n",
       "      <th>Base DEF</th>\n",
       "    </tr>\n",
       "  </thead>\n",
       "  <tbody>\n",
       "    <tr>\n",
       "      <th>0</th>\n",
       "      <td>Amber</td>\n",
       "      <td>1</td>\n",
       "      <td>4</td>\n",
       "      <td>Pyro</td>\n",
       "      <td>Bow</td>\n",
       "      <td>Sub DPS</td>\n",
       "      <td>ATK</td>\n",
       "      <td>793</td>\n",
       "      <td>19</td>\n",
       "      <td>50</td>\n",
       "    </tr>\n",
       "    <tr>\n",
       "      <th>1</th>\n",
       "      <td>Amber</td>\n",
       "      <td>20</td>\n",
       "      <td>4</td>\n",
       "      <td>Pyro</td>\n",
       "      <td>Bow</td>\n",
       "      <td>Sub DPS</td>\n",
       "      <td>ATK</td>\n",
       "      <td>2038</td>\n",
       "      <td>48</td>\n",
       "      <td>129</td>\n",
       "    </tr>\n",
       "    <tr>\n",
       "      <th>2</th>\n",
       "      <td>Amber</td>\n",
       "      <td>20</td>\n",
       "      <td>4</td>\n",
       "      <td>Pyro</td>\n",
       "      <td>Bow</td>\n",
       "      <td>Sub DPS</td>\n",
       "      <td>ATK</td>\n",
       "      <td>2630</td>\n",
       "      <td>62</td>\n",
       "      <td>167</td>\n",
       "    </tr>\n",
       "    <tr>\n",
       "      <th>3</th>\n",
       "      <td>Amber</td>\n",
       "      <td>40</td>\n",
       "      <td>4</td>\n",
       "      <td>Pyro</td>\n",
       "      <td>Bow</td>\n",
       "      <td>Sub DPS</td>\n",
       "      <td>ATK</td>\n",
       "      <td>3940</td>\n",
       "      <td>93</td>\n",
       "      <td>250</td>\n",
       "    </tr>\n",
       "    <tr>\n",
       "      <th>4</th>\n",
       "      <td>Amber</td>\n",
       "      <td>40</td>\n",
       "      <td>4</td>\n",
       "      <td>Pyro</td>\n",
       "      <td>Bow</td>\n",
       "      <td>Sub DPS</td>\n",
       "      <td>ATK</td>\n",
       "      <td>4361</td>\n",
       "      <td>103</td>\n",
       "      <td>277</td>\n",
       "    </tr>\n",
       "  </tbody>\n",
       "</table>\n",
       "</div>"
      ],
      "text/plain": [
       "  Character  Lv  Rarity Element Weapon Main role Ascension  Base HP  Base ATK  \\\n",
       "0     Amber   1       4    Pyro    Bow   Sub DPS       ATK      793        19   \n",
       "1     Amber  20       4    Pyro    Bow   Sub DPS       ATK     2038        48   \n",
       "2     Amber  20       4    Pyro    Bow   Sub DPS       ATK     2630        62   \n",
       "3     Amber  40       4    Pyro    Bow   Sub DPS       ATK     3940        93   \n",
       "4     Amber  40       4    Pyro    Bow   Sub DPS       ATK     4361       103   \n",
       "\n",
       "   Base DEF  \n",
       "0        50  \n",
       "1       129  \n",
       "2       167  \n",
       "3       250  \n",
       "4       277  "
      ]
     },
     "execution_count": 20,
     "metadata": {},
     "output_type": "execute_result"
    }
   ],
   "source": [
    "df.head()"
   ]
  },
  {
   "cell_type": "code",
   "execution_count": 21,
   "id": "3715b6f5",
   "metadata": {},
   "outputs": [
    {
     "name": "stdout",
     "output_type": "stream",
     "text": [
      "Character    object\n",
      "Lv            int64\n",
      "Rarity        int64\n",
      "Element      object\n",
      "Weapon       object\n",
      "Main role    object\n",
      "Ascension    object\n",
      "Base HP       int64\n",
      "Base ATK      int64\n",
      "Base DEF      int64\n",
      "dtype: object\n"
     ]
    }
   ],
   "source": [
    "print(df.dtypes)"
   ]
  },
  {
   "cell_type": "code",
   "execution_count": 22,
   "id": "91dcfa81",
   "metadata": {},
   "outputs": [
    {
     "name": "stdout",
     "output_type": "stream",
     "text": [
      "<class 'pandas.core.frame.DataFrame'>\n",
      "RangeIndex: 574 entries, 0 to 573\n",
      "Data columns (total 10 columns):\n",
      " #   Column     Non-Null Count  Dtype \n",
      "---  ------     --------------  ----- \n",
      " 0   Character  574 non-null    object\n",
      " 1   Lv         574 non-null    int64 \n",
      " 2   Rarity     574 non-null    int64 \n",
      " 3   Element    574 non-null    object\n",
      " 4   Weapon     574 non-null    object\n",
      " 5   Main role  574 non-null    object\n",
      " 6   Ascension  574 non-null    object\n",
      " 7   Base HP    574 non-null    int64 \n",
      " 8   Base ATK   574 non-null    int64 \n",
      " 9   Base DEF   574 non-null    int64 \n",
      "dtypes: int64(5), object(5)\n",
      "memory usage: 45.0+ KB\n"
     ]
    }
   ],
   "source": [
    "df.info()"
   ]
  },
  {
   "cell_type": "code",
   "execution_count": 23,
   "id": "c2b15bd5",
   "metadata": {},
   "outputs": [
    {
     "data": {
      "text/html": [
       "<div>\n",
       "<style scoped>\n",
       "    .dataframe tbody tr th:only-of-type {\n",
       "        vertical-align: middle;\n",
       "    }\n",
       "\n",
       "    .dataframe tbody tr th {\n",
       "        vertical-align: top;\n",
       "    }\n",
       "\n",
       "    .dataframe thead th {\n",
       "        text-align: right;\n",
       "    }\n",
       "</style>\n",
       "<table border=\"1\" class=\"dataframe\">\n",
       "  <thead>\n",
       "    <tr style=\"text-align: right;\">\n",
       "      <th></th>\n",
       "      <th>Lv</th>\n",
       "      <th>Rarity</th>\n",
       "      <th>Base HP</th>\n",
       "      <th>Base ATK</th>\n",
       "      <th>Base DEF</th>\n",
       "    </tr>\n",
       "  </thead>\n",
       "  <tbody>\n",
       "    <tr>\n",
       "      <th>count</th>\n",
       "      <td>574.000000</td>\n",
       "      <td>574.000000</td>\n",
       "      <td>574.000000</td>\n",
       "      <td>574.000000</td>\n",
       "      <td>574.000000</td>\n",
       "    </tr>\n",
       "    <tr>\n",
       "      <th>mean</th>\n",
       "      <td>52.214286</td>\n",
       "      <td>4.512195</td>\n",
       "      <td>6860.010453</td>\n",
       "      <td>148.527875</td>\n",
       "      <td>423.303136</td>\n",
       "    </tr>\n",
       "    <tr>\n",
       "      <th>std</th>\n",
       "      <td>24.996567</td>\n",
       "      <td>0.500287</td>\n",
       "      <td>3325.201592</td>\n",
       "      <td>77.011853</td>\n",
       "      <td>202.560931</td>\n",
       "    </tr>\n",
       "    <tr>\n",
       "      <th>min</th>\n",
       "      <td>1.000000</td>\n",
       "      <td>4.000000</td>\n",
       "      <td>763.000000</td>\n",
       "      <td>8.000000</td>\n",
       "      <td>48.000000</td>\n",
       "    </tr>\n",
       "    <tr>\n",
       "      <th>25%</th>\n",
       "      <td>40.000000</td>\n",
       "      <td>4.000000</td>\n",
       "      <td>4405.000000</td>\n",
       "      <td>91.250000</td>\n",
       "      <td>276.000000</td>\n",
       "    </tr>\n",
       "    <tr>\n",
       "      <th>50%</th>\n",
       "      <td>55.000000</td>\n",
       "      <td>5.000000</td>\n",
       "      <td>6942.500000</td>\n",
       "      <td>148.000000</td>\n",
       "      <td>431.000000</td>\n",
       "    </tr>\n",
       "    <tr>\n",
       "      <th>75%</th>\n",
       "      <td>70.000000</td>\n",
       "      <td>5.000000</td>\n",
       "      <td>9280.000000</td>\n",
       "      <td>200.750000</td>\n",
       "      <td>575.000000</td>\n",
       "    </tr>\n",
       "    <tr>\n",
       "      <th>max</th>\n",
       "      <td>90.000000</td>\n",
       "      <td>5.000000</td>\n",
       "      <td>15552.000000</td>\n",
       "      <td>349.000000</td>\n",
       "      <td>922.000000</td>\n",
       "    </tr>\n",
       "  </tbody>\n",
       "</table>\n",
       "</div>"
      ],
      "text/plain": [
       "               Lv      Rarity       Base HP    Base ATK    Base DEF\n",
       "count  574.000000  574.000000    574.000000  574.000000  574.000000\n",
       "mean    52.214286    4.512195   6860.010453  148.527875  423.303136\n",
       "std     24.996567    0.500287   3325.201592   77.011853  202.560931\n",
       "min      1.000000    4.000000    763.000000    8.000000   48.000000\n",
       "25%     40.000000    4.000000   4405.000000   91.250000  276.000000\n",
       "50%     55.000000    5.000000   6942.500000  148.000000  431.000000\n",
       "75%     70.000000    5.000000   9280.000000  200.750000  575.000000\n",
       "max     90.000000    5.000000  15552.000000  349.000000  922.000000"
      ]
     },
     "execution_count": 23,
     "metadata": {},
     "output_type": "execute_result"
    }
   ],
   "source": [
    "df.describe()"
   ]
  },
  {
   "cell_type": "code",
   "execution_count": 24,
   "id": "48d0110b",
   "metadata": {},
   "outputs": [
    {
     "data": {
      "text/plain": [
       "Character    574\n",
       "Lv           574\n",
       "Rarity       574\n",
       "Element      574\n",
       "Weapon       574\n",
       "Main role    574\n",
       "Ascension    574\n",
       "Base HP      574\n",
       "Base ATK     574\n",
       "Base DEF     574\n",
       "dtype: int64"
      ]
     },
     "execution_count": 24,
     "metadata": {},
     "output_type": "execute_result"
    }
   ],
   "source": [
    "df.count()"
   ]
  },
  {
   "cell_type": "code",
   "execution_count": 25,
   "id": "f9f825b9",
   "metadata": {},
   "outputs": [
    {
     "data": {
      "text/html": [
       "<div>\n",
       "<style scoped>\n",
       "    .dataframe tbody tr th:only-of-type {\n",
       "        vertical-align: middle;\n",
       "    }\n",
       "\n",
       "    .dataframe tbody tr th {\n",
       "        vertical-align: top;\n",
       "    }\n",
       "\n",
       "    .dataframe thead th {\n",
       "        text-align: right;\n",
       "    }\n",
       "</style>\n",
       "<table border=\"1\" class=\"dataframe\">\n",
       "  <thead>\n",
       "    <tr style=\"text-align: right;\">\n",
       "      <th></th>\n",
       "      <th>Character</th>\n",
       "      <th>Lv</th>\n",
       "      <th>Rarity</th>\n",
       "      <th>Element</th>\n",
       "      <th>Weapon</th>\n",
       "      <th>Main role</th>\n",
       "      <th>Ascension</th>\n",
       "      <th>Base HP</th>\n",
       "      <th>Base ATK</th>\n",
       "      <th>Base DEF</th>\n",
       "    </tr>\n",
       "  </thead>\n",
       "  <tbody>\n",
       "    <tr>\n",
       "      <th>0</th>\n",
       "      <td>Amber</td>\n",
       "      <td>1</td>\n",
       "      <td>4</td>\n",
       "      <td>Pyro</td>\n",
       "      <td>Bow</td>\n",
       "      <td>Sub DPS</td>\n",
       "      <td>ATK</td>\n",
       "      <td>793</td>\n",
       "      <td>19</td>\n",
       "      <td>50</td>\n",
       "    </tr>\n",
       "    <tr>\n",
       "      <th>1</th>\n",
       "      <td>Amber</td>\n",
       "      <td>20</td>\n",
       "      <td>4</td>\n",
       "      <td>Pyro</td>\n",
       "      <td>Bow</td>\n",
       "      <td>Sub DPS</td>\n",
       "      <td>ATK</td>\n",
       "      <td>2038</td>\n",
       "      <td>48</td>\n",
       "      <td>129</td>\n",
       "    </tr>\n",
       "    <tr>\n",
       "      <th>2</th>\n",
       "      <td>Amber</td>\n",
       "      <td>20</td>\n",
       "      <td>4</td>\n",
       "      <td>Pyro</td>\n",
       "      <td>Bow</td>\n",
       "      <td>Sub DPS</td>\n",
       "      <td>ATK</td>\n",
       "      <td>2630</td>\n",
       "      <td>62</td>\n",
       "      <td>167</td>\n",
       "    </tr>\n",
       "    <tr>\n",
       "      <th>3</th>\n",
       "      <td>Amber</td>\n",
       "      <td>40</td>\n",
       "      <td>4</td>\n",
       "      <td>Pyro</td>\n",
       "      <td>Bow</td>\n",
       "      <td>Sub DPS</td>\n",
       "      <td>ATK</td>\n",
       "      <td>3940</td>\n",
       "      <td>93</td>\n",
       "      <td>250</td>\n",
       "    </tr>\n",
       "    <tr>\n",
       "      <th>4</th>\n",
       "      <td>Amber</td>\n",
       "      <td>40</td>\n",
       "      <td>4</td>\n",
       "      <td>Pyro</td>\n",
       "      <td>Bow</td>\n",
       "      <td>Sub DPS</td>\n",
       "      <td>ATK</td>\n",
       "      <td>4361</td>\n",
       "      <td>103</td>\n",
       "      <td>277</td>\n",
       "    </tr>\n",
       "    <tr>\n",
       "      <th>...</th>\n",
       "      <td>...</td>\n",
       "      <td>...</td>\n",
       "      <td>...</td>\n",
       "      <td>...</td>\n",
       "      <td>...</td>\n",
       "      <td>...</td>\n",
       "      <td>...</td>\n",
       "      <td>...</td>\n",
       "      <td>...</td>\n",
       "      <td>...</td>\n",
       "    </tr>\n",
       "    <tr>\n",
       "      <th>569</th>\n",
       "      <td>Kokomi</td>\n",
       "      <td>70</td>\n",
       "      <td>5</td>\n",
       "      <td>Hydro</td>\n",
       "      <td>Catalyst</td>\n",
       "      <td>Healer</td>\n",
       "      <td>Hydro DMG</td>\n",
       "      <td>10306</td>\n",
       "      <td>179</td>\n",
       "      <td>503</td>\n",
       "    </tr>\n",
       "    <tr>\n",
       "      <th>570</th>\n",
       "      <td>Kokomi</td>\n",
       "      <td>70</td>\n",
       "      <td>5</td>\n",
       "      <td>Hydro</td>\n",
       "      <td>Catalyst</td>\n",
       "      <td>Healer</td>\n",
       "      <td>Hydro DMG</td>\n",
       "      <td>10945</td>\n",
       "      <td>190</td>\n",
       "      <td>534</td>\n",
       "    </tr>\n",
       "    <tr>\n",
       "      <th>571</th>\n",
       "      <td>Kokomi</td>\n",
       "      <td>80</td>\n",
       "      <td>5</td>\n",
       "      <td>Hydro</td>\n",
       "      <td>Catalyst</td>\n",
       "      <td>Healer</td>\n",
       "      <td>Hydro DMG</td>\n",
       "      <td>11885</td>\n",
       "      <td>207</td>\n",
       "      <td>580</td>\n",
       "    </tr>\n",
       "    <tr>\n",
       "      <th>572</th>\n",
       "      <td>Kokomi</td>\n",
       "      <td>80</td>\n",
       "      <td>5</td>\n",
       "      <td>Hydro</td>\n",
       "      <td>Catalyst</td>\n",
       "      <td>Healer</td>\n",
       "      <td>Hydro DMG</td>\n",
       "      <td>12524</td>\n",
       "      <td>218</td>\n",
       "      <td>611</td>\n",
       "    </tr>\n",
       "    <tr>\n",
       "      <th>573</th>\n",
       "      <td>Kokomi</td>\n",
       "      <td>90</td>\n",
       "      <td>5</td>\n",
       "      <td>Hydro</td>\n",
       "      <td>Catalyst</td>\n",
       "      <td>Healer</td>\n",
       "      <td>Hydro DMG</td>\n",
       "      <td>13471</td>\n",
       "      <td>234</td>\n",
       "      <td>657</td>\n",
       "    </tr>\n",
       "  </tbody>\n",
       "</table>\n",
       "<p>574 rows × 10 columns</p>\n",
       "</div>"
      ],
      "text/plain": [
       "    Character  Lv  Rarity Element    Weapon Main role  Ascension  Base HP  \\\n",
       "0       Amber   1       4    Pyro       Bow   Sub DPS        ATK      793   \n",
       "1       Amber  20       4    Pyro       Bow   Sub DPS        ATK     2038   \n",
       "2       Amber  20       4    Pyro       Bow   Sub DPS        ATK     2630   \n",
       "3       Amber  40       4    Pyro       Bow   Sub DPS        ATK     3940   \n",
       "4       Amber  40       4    Pyro       Bow   Sub DPS        ATK     4361   \n",
       "..        ...  ..     ...     ...       ...       ...        ...      ...   \n",
       "569    Kokomi  70       5   Hydro  Catalyst    Healer  Hydro DMG    10306   \n",
       "570    Kokomi  70       5   Hydro  Catalyst    Healer  Hydro DMG    10945   \n",
       "571    Kokomi  80       5   Hydro  Catalyst    Healer  Hydro DMG    11885   \n",
       "572    Kokomi  80       5   Hydro  Catalyst    Healer  Hydro DMG    12524   \n",
       "573    Kokomi  90       5   Hydro  Catalyst    Healer  Hydro DMG    13471   \n",
       "\n",
       "     Base ATK  Base DEF  \n",
       "0          19        50  \n",
       "1          48       129  \n",
       "2          62       167  \n",
       "3          93       250  \n",
       "4         103       277  \n",
       "..        ...       ...  \n",
       "569       179       503  \n",
       "570       190       534  \n",
       "571       207       580  \n",
       "572       218       611  \n",
       "573       234       657  \n",
       "\n",
       "[574 rows x 10 columns]"
      ]
     },
     "execution_count": 25,
     "metadata": {},
     "output_type": "execute_result"
    }
   ],
   "source": [
    "df.fillna(0)"
   ]
  },
  {
   "cell_type": "code",
   "execution_count": 26,
   "id": "69e11fa8",
   "metadata": {},
   "outputs": [
    {
     "data": {
      "image/png": "[encoded data removed]",
      "text/plain": [
       "<Figure size 1080x720 with 2 Axes>"
      ]
     },
     "metadata": {
      "needs_background": "light"
     },
     "output_type": "display_data"
    }
   ],
   "source": [
    "import matplotlib.pyplot as plt\n",
    "import seaborn as sns\n",
    "\n",
    "korelasi = df.corr()\n",
    "plt.figure(figsize=(15, 10))\n",
    "sns.heatmap(korelasi[(korelasi >= 0.5) | (korelasi <= -0.4)], cmap='viridis', vmax=1.0, vmin=-1.0, linewidths=0.1, \n",
    "            annot=True, annot_kws={\"size\": 8}, square=True).set_title('Korelasi Antar Variabel')\n",
    "plt.show()"
   ]
  },
  {
   "cell_type": "code",
   "execution_count": 33,
   "id": "7c0ee569",
   "metadata": {},
   "outputs": [
    {
     "name": "stderr",
     "output_type": "stream",
     "text": [
      "C:\\Users\\RILO\\anaconda3\\lib\\site-packages\\seaborn\\distributions.py:2619: FutureWarning: `distplot` is a deprecated function and will be removed in a future version. Please adapt your code to use either `displot` (a figure-level function with similar flexibility) or `histplot` (an axes-level function for histograms).\n",
      "  warnings.warn(msg, FutureWarning)\n"
     ]
    },
    {
     "data": {
      "image/png": "[encoded data removed]",
      "text/plain": [
       "<Figure size 432x288 with 1 Axes>"
      ]
     },
     "metadata": {
      "needs_background": "light"
     },
     "output_type": "display_data"
    }
   ],
   "source": [
    "sns.distplot(df.Lv)\n",
    "plt.show()"
   ]
  },
  {
   "cell_type": "code",
   "execution_count": 34,
   "id": "23e2ae58",
   "metadata": {},
   "outputs": [
    {
     "data": {
      "image/png": "[encoded data removed]",
      "text/plain": [
       "<Figure size 432x288 with 2 Axes>"
      ]
     },
     "metadata": {
      "needs_background": "light"
     },
     "output_type": "display_data"
    }
   ],
   "source": [
    "sns.heatmap(df.corr(),annot=True)\n",
    "plt.show()"
   ]
  },
  {
   "cell_type": "code",
   "execution_count": 35,
   "id": "73f432bc",
   "metadata": {},
   "outputs": [
    {
     "ename": "AttributeError",
     "evalue": "'DataFrame' object has no attribute 'Arma'",
     "output_type": "error",
     "traceback": [
      "\u001b[1;31m---------------------------------------------------------------------------\u001b[0m",
      "\u001b[1;31mAttributeError\u001b[0m                            Traceback (most recent call last)",
      "\u001b[1;32m~\\AppData\\Local\\Temp/ipykernel_8968/3526222156.py\u001b[0m in \u001b[0;36m<module>\u001b[1;34m\u001b[0m\n\u001b[1;32m----> 1\u001b[1;33m \u001b[0msns\u001b[0m\u001b[1;33m.\u001b[0m\u001b[0mcountplot\u001b[0m\u001b[1;33m(\u001b[0m\u001b[0mdf\u001b[0m\u001b[1;33m.\u001b[0m\u001b[0mArma\u001b[0m\u001b[1;33m,\u001b[0m\u001b[0mpalette\u001b[0m\u001b[1;33m=\u001b[0m\u001b[1;34m'Set2'\u001b[0m\u001b[1;33m)\u001b[0m\u001b[1;33m\u001b[0m\u001b[1;33m\u001b[0m\u001b[0m\n\u001b[0m\u001b[0;32m      2\u001b[0m \u001b[0mplt\u001b[0m\u001b[1;33m.\u001b[0m\u001b[0mshow\u001b[0m\u001b[1;33m(\u001b[0m\u001b[1;33m)\u001b[0m\u001b[1;33m\u001b[0m\u001b[1;33m\u001b[0m\u001b[0m\n",
      "\u001b[1;32m~\\anaconda3\\lib\\site-packages\\pandas\\core\\generic.py\u001b[0m in \u001b[0;36m__getattr__\u001b[1;34m(self, name)\u001b[0m\n\u001b[0;32m   5485\u001b[0m         ):\n\u001b[0;32m   5486\u001b[0m             \u001b[1;32mreturn\u001b[0m \u001b[0mself\u001b[0m\u001b[1;33m[\u001b[0m\u001b[0mname\u001b[0m\u001b[1;33m]\u001b[0m\u001b[1;33m\u001b[0m\u001b[1;33m\u001b[0m\u001b[0m\n\u001b[1;32m-> 5487\u001b[1;33m         \u001b[1;32mreturn\u001b[0m \u001b[0mobject\u001b[0m\u001b[1;33m.\u001b[0m\u001b[0m__getattribute__\u001b[0m\u001b[1;33m(\u001b[0m\u001b[0mself\u001b[0m\u001b[1;33m,\u001b[0m \u001b[0mname\u001b[0m\u001b[1;33m)\u001b[0m\u001b[1;33m\u001b[0m\u001b[1;33m\u001b[0m\u001b[0m\n\u001b[0m\u001b[0;32m   5488\u001b[0m \u001b[1;33m\u001b[0m\u001b[0m\n\u001b[0;32m   5489\u001b[0m     \u001b[1;32mdef\u001b[0m \u001b[0m__setattr__\u001b[0m\u001b[1;33m(\u001b[0m\u001b[0mself\u001b[0m\u001b[1;33m,\u001b[0m \u001b[0mname\u001b[0m\u001b[1;33m:\u001b[0m \u001b[0mstr\u001b[0m\u001b[1;33m,\u001b[0m \u001b[0mvalue\u001b[0m\u001b[1;33m)\u001b[0m \u001b[1;33m->\u001b[0m \u001b[1;32mNone\u001b[0m\u001b[1;33m:\u001b[0m\u001b[1;33m\u001b[0m\u001b[1;33m\u001b[0m\u001b[0m\n",
      "\u001b[1;31mAttributeError\u001b[0m: 'DataFrame' object has no attribute 'Arma'"
     ]
    }
   ],
   "source": [
    "sns.countplot(df.Arma,palette='Set2')\n",
    "plt.show()"
   ]
  },
  {
   "cell_type": "code",
   "execution_count": null,
   "id": "9891b2b8",
   "metadata": {},
   "outputs": [],
   "source": []
  }
 ],
 "metadata": {
  "kernelspec": {
   "display_name": "Python 3 (ipykernel)",
   "language": "python",
   "name": "python3"
  },
  "language_info": {
   "codemirror_mode": {
    "name": "ipython",
    "version": 3
   },
   "file_extension": ".py",
   "mimetype": "text/x-python",
   "name": "python",
   "nbconvert_exporter": "python",
   "pygments_lexer": "ipython3",
   "version": "3.9.7"
  }
 },
 "nbformat": 4,
 "nbformat_minor": 5
}
